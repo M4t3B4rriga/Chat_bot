{
 "cells": [
  {
   "cell_type": "code",
   "execution_count": 1,
   "metadata": {},
   "outputs": [
    {
     "name": "stderr",
     "output_type": "stream",
     "text": [
      "c:\\Users\\sebas\\AppData\\Local\\Programs\\Python\\Python312\\Lib\\site-packages\\tqdm\\auto.py:21: TqdmWarning: IProgress not found. Please update jupyter and ipywidgets. See https://ipywidgets.readthedocs.io/en/stable/user_install.html\n",
      "  from .autonotebook import tqdm as notebook_tqdm\n",
      "c:\\Users\\sebas\\AppData\\Local\\Programs\\Python\\Python312\\Lib\\site-packages\\threadpoolctl.py:1214: RuntimeWarning: \n",
      "Found Intel OpenMP ('libiomp') and LLVM OpenMP ('libomp') loaded at\n",
      "the same time. Both libraries are known to be incompatible and this\n",
      "can cause random crashes or deadlocks on Linux when loaded in the\n",
      "same Python program.\n",
      "Using threadpoolctl may cause crashes or deadlocks. For more\n",
      "information and possible workarounds, please see\n",
      "    https://github.com/joblib/threadpoolctl/blob/master/multiple_openmp.md\n",
      "\n",
      "  warnings.warn(msg, RuntimeWarning)\n"
     ]
    }
   ],
   "source": [
    "import pandas as pd\n",
    "from transformers import AutoTokenizer,pipeline, AutoModelForSeq2SeqLM\n",
    "import faiss\n",
    "import numpy as np\n",
    "import torch\n",
    "import tensorflow as tf\n",
    "import joblib"
   ]
  },
  {
   "cell_type": "code",
   "execution_count": 2,
   "metadata": {},
   "outputs": [],
   "source": [
    "# Cargar el modelo y el tokenizador\n",
    "model_name = \"google/flan-t5-small\"\n",
    "tokenizer = AutoTokenizer.from_pretrained(model_name)\n",
    "model = AutoModelForSeq2SeqLM.from_pretrained(model_name)"
   ]
  },
  {
   "cell_type": "code",
   "execution_count": 3,
   "metadata": {},
   "outputs": [],
   "source": [
    "# Cargar la base de datos de preguntas y respuestas desde un archivo Excel\n",
    "excel_file_path = 'Base_conocimiento_pre.xlsx'\n",
    "df = pd.read_excel(excel_file_path)\n",
    "preguntas = df['Pregunta'].tolist()\n",
    "respuestas = df['Respuesta'].tolist()"
   ]
  },
  {
   "cell_type": "code",
   "execution_count": 4,
   "metadata": {},
   "outputs": [
    {
     "name": "stdout",
     "output_type": "stream",
     "text": [
      "                                            Pregunta  \\\n",
      "0  ¿Dónde se encuentra el departamento de computa...   \n",
      "1  ¿Dónde se encuentra el psicólogo de la univers...   \n",
      "2    ¿Cada cuánto tiempo se da las becas economicas?   \n",
      "3  ¿Cuántos accesos exiten en la matriz de la uni...   \n",
      "4  ¿Cuáles son los Clubs que dispone la universid...   \n",
      "\n",
      "                                           Respuesta  \n",
      "0                                    En el bloque H   \n",
      "1            En bienestar estudiantil, junto al bar   \n",
      "2                                     Una vez al año  \n",
      "3             Dos accesos  para vehiculos y peatones  \n",
      "4  ASOCIACIÓN DE INGENIEROS MECÁNICOS “ASME”, CHA...  \n"
     ]
    }
   ],
   "source": [
    "# Verificar la carga de los datos\n",
    "print(df.head())"
   ]
  },
  {
   "cell_type": "code",
   "execution_count": 5,
   "metadata": {},
   "outputs": [],
   "source": [
    "# Función para generar embeddings\n",
    "def generar_embeddings(textos, tokenizer, modelo):\n",
    "    embeddings_list = []\n",
    "    for texto in textos:\n",
    "        inputs = tokenizer(texto, return_tensors=\"pt\", padding=True, truncation=True, max_length=512)\n",
    "        with torch.no_grad():\n",
    "            outputs = modelo.encoder(**inputs)\n",
    "        embeddings = outputs.last_hidden_state.mean(dim=1).squeeze().numpy()\n",
    "        embeddings_list.append(embeddings)\n",
    "    return np.array(embeddings_list)"
   ]
  },
  {
   "cell_type": "code",
   "execution_count": 6,
   "metadata": {},
   "outputs": [],
   "source": [
    "# Generar embeddings para todas las preguntas\n",
    "embeddings = generar_embeddings(preguntas, tokenizer, model)"
   ]
  },
  {
   "cell_type": "code",
   "execution_count": 7,
   "metadata": {},
   "outputs": [],
   "source": [
    "\n",
    "# Crear el índice FAISS\n",
    "dimension = embeddings.shape[1]\n",
    "index = faiss.IndexFlatL2(dimension)\n",
    "index.add(embeddings.astype('float32'))"
   ]
  },
  {
   "cell_type": "code",
   "execution_count": 8,
   "metadata": {},
   "outputs": [],
   "source": [
    "# Función para buscar la pregunta más similar\n",
    "def buscar_pregunta_similar(input_question, tokenizer, model, index, preguntas, respuestas, k=1):\n",
    "    input_embedding = generar_embeddings([input_question], tokenizer, model)\n",
    "    D, I = index.search(input_embedding.astype('float32'), k)\n",
    "    return [preguntas[i] for i in I[0]], [respuestas[i] for i in I[0]]"
   ]
  },
  {
   "cell_type": "code",
   "execution_count": 9,
   "metadata": {},
   "outputs": [],
   "source": [
    "# Función para generar respuesta\n",
    "def generar_respuesta(modelo, tokenizer, pregunta, respuesta):\n",
    "    input_text = f\"Pregunta: {pregunta}\\nRespuesta: {respuesta}\\nGenera una respuesta más detallada:\"\n",
    "    inputs = tokenizer(input_text, return_tensors=\"pt\", max_length=512, truncation=True)\n",
    "    outputs = modelo.generate(**inputs, max_length=150, num_return_sequences=1, temperature=0.7)\n",
    "    return tokenizer.decode(outputs[0], skip_special_tokens=True)"
   ]
  },
  {
   "cell_type": "code",
   "execution_count": 10,
   "metadata": {},
   "outputs": [
    {
     "name": "stdout",
     "output_type": "stream",
     "text": [
      "Modelo guardado exitosamente.\n"
     ]
    }
   ],
   "source": [
    "# Guardar el modelo, tokenizer, índice FAISS y datos\n",
    "joblib.dump({\n",
    "    'model': model,\n",
    "    'tokenizer': tokenizer,\n",
    "    'faiss_index': index,\n",
    "    'preguntas': preguntas,\n",
    "    'respuestas': respuestas\n",
    "}, 'chatbot_model.joblib')\n",
    "\n",
    "print(\"Modelo guardado exitosamente.\")"
   ]
  },
  {
   "cell_type": "code",
   "execution_count": 11,
   "metadata": {},
   "outputs": [],
   "source": [
    "\n",
    "# Ejemplo de cómo cargar y usar el modelo guardado\n",
    "def cargar_modelo():\n",
    "    loaded_data = joblib.load('chatbot_model.joblib')\n",
    "    return loaded_data['model'], loaded_data['tokenizer'], loaded_data['faiss_index'], loaded_data['preguntas'], loaded_data['respuestas']\n"
   ]
  },
  {
   "cell_type": "code",
   "execution_count": 12,
   "metadata": {},
   "outputs": [],
   "source": [
    "\n",
    "def responder_pregunta(pregunta):\n",
    "    model, tokenizer, index, preguntas, respuestas = cargar_modelo()\n",
    "    preguntas_similares, respuestas_similares = buscar_pregunta_similar(pregunta, tokenizer, model, index, preguntas, respuestas)\n",
    "    respuesta_detallada = generar_respuesta(model, tokenizer, preguntas_similares[0], respuestas_similares[0])\n",
    "    translator=Translator()\n",
    "    respuesta_traducida=translator.translate(respuesta_detallada, dest=\"es\").text\n",
    "    return respuesta_traducida"
   ]
  },
  {
   "cell_type": "code",
   "execution_count": 13,
   "metadata": {},
   "outputs": [
    {
     "name": "stderr",
     "output_type": "stream",
     "text": [
      "c:\\Users\\sebas\\AppData\\Local\\Programs\\Python\\Python312\\Lib\\site-packages\\torch\\storage.py:414: FutureWarning: You are using `torch.load` with `weights_only=False` (the current default value), which uses the default pickle module implicitly. It is possible to construct malicious pickle data which will execute arbitrary code during unpickling (See https://github.com/pytorch/pytorch/blob/main/SECURITY.md#untrusted-models for more details). In a future release, the default value for `weights_only` will be flipped to `True`. This limits the functions that could be executed during unpickling. Arbitrary objects will no longer be allowed to be loaded via this mode unless they are explicitly allowlisted by the user via `torch.serialization.add_safe_globals`. We recommend you start setting `weights_only=True` for any use case where you don't have full control of the loaded file. Please open an issue on GitHub for any issues related to this experimental feature.\n",
      "  return torch.load(io.BytesIO(b))\n",
      "c:\\Users\\sebas\\AppData\\Local\\Programs\\Python\\Python312\\Lib\\site-packages\\transformers\\generation\\configuration_utils.py:567: UserWarning: `do_sample` is set to `False`. However, `temperature` is set to `0.7` -- this flag is only used in sample-based generation modes. You should set `do_sample=True` or unset `temperature`.\n",
      "  warnings.warn(\n"
     ]
    },
    {
     "name": "stdout",
     "output_type": "stream",
     "text": [
      "Pregunta: ¿quien es el director de carrera de software?\n",
      "Respuesta: Pregunta: ¿Cómo es el director del software? Respuesta: Ing. Mauricio Camapaá Genera\n"
     ]
    }
   ],
   "source": [
    "# Ejemplo de uso\n",
    "pregunta_usuario = \"¿quien es el director de carrera de software?\"\n",
    "respuesta = responder_pregunta(pregunta_usuario)\n",
    "print(f\"Pregunta: {pregunta_usuario}\")\n",
    "print(f\"Respuesta: {respuesta}\")"
   ]
  }
 ],
 "metadata": {
  "kernelspec": {
   "display_name": "Python 3",
   "language": "python",
   "name": "python3"
  },
  "language_info": {
   "codemirror_mode": {
    "name": "ipython",
    "version": 3
   },
   "file_extension": ".py",
   "mimetype": "text/x-python",
   "name": "python",
   "nbconvert_exporter": "python",
   "pygments_lexer": "ipython3",
   "version": "3.12.3"
  }
 },
 "nbformat": 4,
 "nbformat_minor": 2
}
